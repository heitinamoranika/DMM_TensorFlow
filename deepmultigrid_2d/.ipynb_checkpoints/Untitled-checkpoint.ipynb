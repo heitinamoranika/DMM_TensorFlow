{
 "cells": [
  {
   "cell_type": "code",
   "execution_count": 1,
   "metadata": {},
   "outputs": [],
   "source": [
    "import numpy as np\n",
    "\n",
    "def Possion(m):\n",
    "    A = (2**(2 * m + 3)) * np.eye(2**(m + 1) - 1)\n",
    "    for i in range(2**(m + 1) - 2):\n",
    "        A[i, i + 1] = -(2**(2 * m + 2))\n",
    "        A[i + 1, i] = -(2**(2 * m + 2))\n",
    "    return A\n",
    "\n",
    "\n",
    "def k(x, kmax):\n",
    "    if x < 0.5:\n",
    "        y = 1\n",
    "    else:\n",
    "        y = kmax\n",
    "    return y\n",
    "\n",
    "\n",
    "def Helmholtz(m, kmax):\n",
    "    H = (2**(2 * m + 3)) * np.eye(2**(m + 1) - 1)\n",
    "    for i in range(2**(m + 1) - 2):\n",
    "        H[i, i + 1] = -(2**(2 * m + 2))\n",
    "        H[i + 1, i] = -(2**(2 * m + 2))\n",
    "    for i in range(2**(m + 1) - 1):\n",
    "        H[i, i] = H[i, i] - k(i/(2**(m + 1) - 1), kmax)**2\n",
    "    return H"
   ]
  },
  {
   "cell_type": "code",
   "execution_count": 2,
   "metadata": {},
   "outputs": [],
   "source": [
    "inputsize = (2**5-1)**2\n",
    "inputsize = int(inputsize)\n",
    "sqrtinputsize = int(np.sqrt(inputsize))\n",
    "outputsize = int((2**(np.log2(np.sqrt(inputsize)+1)-1)-1)**2)\n",
    "sqrtoutputsize = int(np.sqrt(outputsize))\n",
    "h = 1/(sqrtinputsize+1)"
   ]
  },
  {
   "cell_type": "code",
   "execution_count": 3,
   "metadata": {},
   "outputs": [],
   "source": [
    "A = Helmholtz(m, kmax)"
   ]
  },
  {
   "cell_type": "code",
   "execution_count": 5,
   "metadata": {},
   "outputs": [],
   "source": [
    "[a, b] = A.shape\n",
    "import xlwt\n",
    "workbook = xlwt.Workbook()\n",
    "sheet = workbook.add_sheet(\"A\")\n",
    "for i in range(256):\n",
    "    for j in range(256):\n",
    "        sheet.write(i, j, A[i][j])\n",
    "workbook.save('T:\\Programming\\deepmultigrid_2d\\A.xls')"
   ]
  },
  {
   "cell_type": "code",
   "execution_count": null,
   "metadata": {},
   "outputs": [],
   "source": []
  }
 ],
 "metadata": {
  "kernelspec": {
   "display_name": "Python 3",
   "language": "python",
   "name": "python3"
  },
  "language_info": {
   "codemirror_mode": {
    "name": "ipython",
    "version": 3
   },
   "file_extension": ".py",
   "mimetype": "text/x-python",
   "name": "python",
   "nbconvert_exporter": "python",
   "pygments_lexer": "ipython3",
   "version": "3.5.4"
  }
 },
 "nbformat": 4,
 "nbformat_minor": 2
}

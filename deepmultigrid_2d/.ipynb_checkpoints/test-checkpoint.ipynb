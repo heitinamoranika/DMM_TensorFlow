{
 "cells": [
  {
   "cell_type": "code",
   "execution_count": 1,
   "metadata": {},
   "outputs": [],
   "source": [
    "import numpy as np"
   ]
  },
  {
   "cell_type": "code",
   "execution_count": 2,
   "metadata": {},
   "outputs": [],
   "source": [
    "from basicequation import *"
   ]
  },
  {
   "cell_type": "code",
   "execution_count": 3,
   "metadata": {},
   "outputs": [
    {
     "name": "stdout",
     "output_type": "stream",
     "text": [
      "[[0.0625 0.125  0.0625 0.     0.     0.     0.     0.125  0.25   0.125\n",
      "  0.     0.     0.     0.     0.0625 0.125  0.0625 0.     0.     0.\n",
      "  0.     0.     0.     0.     0.     0.     0.     0.     0.     0.\n",
      "  0.     0.     0.     0.     0.     0.     0.     0.     0.     0.\n",
      "  0.     0.     0.     0.     0.     0.     0.     0.     0.    ]\n",
      " [0.     0.     0.0625 0.125  0.0625 0.     0.     0.     0.     0.125\n",
      "  0.25   0.125  0.     0.     0.     0.     0.0625 0.125  0.0625 0.\n",
      "  0.     0.     0.     0.     0.     0.     0.     0.     0.     0.\n",
      "  0.     0.     0.     0.     0.     0.     0.     0.     0.     0.\n",
      "  0.     0.     0.     0.     0.     0.     0.     0.     0.    ]\n",
      " [0.     0.     0.     0.     0.0625 0.125  0.0625 0.     0.     0.\n",
      "  0.     0.125  0.25   0.125  0.     0.     0.     0.     0.0625 0.125\n",
      "  0.0625 0.     0.     0.     0.     0.     0.     0.     0.     0.\n",
      "  0.     0.     0.     0.     0.     0.     0.     0.     0.     0.\n",
      "  0.     0.     0.     0.     0.     0.     0.     0.     0.    ]\n",
      " [0.     0.     0.     0.     0.     0.     0.     0.     0.     0.\n",
      "  0.     0.     0.     0.     0.0625 0.125  0.0625 0.     0.     0.\n",
      "  0.     0.125  0.25   0.125  0.     0.     0.     0.     0.0625 0.125\n",
      "  0.0625 0.     0.     0.     0.     0.     0.     0.     0.     0.\n",
      "  0.     0.     0.     0.     0.     0.     0.     0.     0.    ]\n",
      " [0.     0.     0.     0.     0.     0.     0.     0.     0.     0.\n",
      "  0.     0.     0.     0.     0.     0.     0.0625 0.125  0.0625 0.\n",
      "  0.     0.     0.     0.125  0.25   0.125  0.     0.     0.     0.\n",
      "  0.0625 0.125  0.0625 0.     0.     0.     0.     0.     0.     0.\n",
      "  0.     0.     0.     0.     0.     0.     0.     0.     0.    ]\n",
      " [0.     0.     0.     0.     0.     0.     0.     0.     0.     0.\n",
      "  0.     0.     0.     0.     0.     0.     0.     0.     0.0625 0.125\n",
      "  0.0625 0.     0.     0.     0.     0.125  0.25   0.125  0.     0.\n",
      "  0.     0.     0.0625 0.125  0.0625 0.     0.     0.     0.     0.\n",
      "  0.     0.     0.     0.     0.     0.     0.     0.     0.    ]\n",
      " [0.     0.     0.     0.     0.     0.     0.     0.     0.     0.\n",
      "  0.     0.     0.     0.     0.     0.     0.     0.     0.     0.\n",
      "  0.     0.     0.     0.     0.     0.     0.     0.     0.0625 0.125\n",
      "  0.0625 0.     0.     0.     0.     0.125  0.25   0.125  0.     0.\n",
      "  0.     0.     0.0625 0.125  0.0625 0.     0.     0.     0.    ]\n",
      " [0.     0.     0.     0.     0.     0.     0.     0.     0.     0.\n",
      "  0.     0.     0.     0.     0.     0.     0.     0.     0.     0.\n",
      "  0.     0.     0.     0.     0.     0.     0.     0.     0.     0.\n",
      "  0.0625 0.125  0.0625 0.     0.     0.     0.     0.125  0.25   0.125\n",
      "  0.     0.     0.     0.     0.0625 0.125  0.0625 0.     0.    ]\n",
      " [0.     0.     0.     0.     0.     0.     0.     0.     0.     0.\n",
      "  0.     0.     0.     0.     0.     0.     0.     0.     0.     0.\n",
      "  0.     0.     0.     0.     0.     0.     0.     0.     0.     0.\n",
      "  0.     0.     0.0625 0.125  0.0625 0.     0.     0.     0.     0.125\n",
      "  0.25   0.125  0.     0.     0.     0.     0.0625 0.125  0.0625]]\n"
     ]
    }
   ],
   "source": [
    "print(Restriction(49))"
   ]
  },
  {
   "cell_type": "code",
   "execution_count": 4,
   "metadata": {},
   "outputs": [
    {
     "data": {
      "text/plain": [
       "matrix([[0.25],\n",
       "        [0.5 ],\n",
       "        [0.25],\n",
       "        [0.5 ],\n",
       "        [1.  ],\n",
       "        [0.5 ],\n",
       "        [0.25],\n",
       "        [0.5 ],\n",
       "        [0.25]])"
      ]
     },
     "execution_count": 4,
     "metadata": {},
     "output_type": "execute_result"
    }
   ],
   "source": [
    "Interpolation(9)"
   ]
  },
  {
   "cell_type": "code",
   "execution_count": 5,
   "metadata": {},
   "outputs": [],
   "source": [
    "import numpy as np\n",
    "from basicequation import *"
   ]
  },
  {
   "cell_type": "code",
   "execution_count": 6,
   "metadata": {},
   "outputs": [],
   "source": [
    "def f(x, y): return x**2+y**2;\n",
    "def ub(x, y): return 0;\n",
    "def ut(x, y): return 0.5*(x**2);\n",
    "def ul(x, y): return np.sin(np.pi*y);\n",
    "def ur(x, y): return np.exp(np.pi)*np.sin(np.pi*y) + 0.5*(y**2);"
   ]
  },
  {
   "cell_type": "code",
   "execution_count": 7,
   "metadata": {},
   "outputs": [],
   "source": [
    "inputsize = 49\n",
    "inputsize = int(inputsize)\n",
    "sqrtinputsize = int(np.sqrt(inputsize))\n",
    "outputsize = int((2**(np.log2(np.sqrt(inputsize)+1)-1)-1)**2)\n",
    "sqrtoutputsize = int(np.sqrt(outputsize))"
   ]
  },
  {
   "cell_type": "code",
   "execution_count": 8,
   "metadata": {},
   "outputs": [
    {
     "name": "stdout",
     "output_type": "stream",
     "text": [
      "49\n",
      "7\n",
      "9\n",
      "3\n"
     ]
    }
   ],
   "source": [
    "print(inputsize)\n",
    "print(sqrtinputsize)\n",
    "print(outputsize)\n",
    "print(sqrtoutputsize)"
   ]
  },
  {
   "cell_type": "code",
   "execution_count": 9,
   "metadata": {},
   "outputs": [],
   "source": [
    "[X, Y] = np.meshgrid(np.linspace(0, 1, sqrtinputsize),np.linspace(0, 1, sqrtinputsize))"
   ]
  },
  {
   "cell_type": "code",
   "execution_count": 10,
   "metadata": {},
   "outputs": [
    {
     "name": "stdout",
     "output_type": "stream",
     "text": [
      "[[0.         0.16666667 0.33333333 0.5        0.66666667 0.83333333\n",
      "  1.        ]\n",
      " [0.         0.16666667 0.33333333 0.5        0.66666667 0.83333333\n",
      "  1.        ]\n",
      " [0.         0.16666667 0.33333333 0.5        0.66666667 0.83333333\n",
      "  1.        ]\n",
      " [0.         0.16666667 0.33333333 0.5        0.66666667 0.83333333\n",
      "  1.        ]\n",
      " [0.         0.16666667 0.33333333 0.5        0.66666667 0.83333333\n",
      "  1.        ]\n",
      " [0.         0.16666667 0.33333333 0.5        0.66666667 0.83333333\n",
      "  1.        ]\n",
      " [0.         0.16666667 0.33333333 0.5        0.66666667 0.83333333\n",
      "  1.        ]]\n"
     ]
    }
   ],
   "source": [
    "print(X)"
   ]
  },
  {
   "cell_type": "code",
   "execution_count": 11,
   "metadata": {},
   "outputs": [
    {
     "name": "stdout",
     "output_type": "stream",
     "text": [
      "[[0.        ]\n",
      " [0.16666667]\n",
      " [0.33333333]\n",
      " [0.5       ]\n",
      " [0.66666667]\n",
      " [0.83333333]\n",
      " [1.        ]\n",
      " [0.        ]\n",
      " [0.16666667]\n",
      " [0.33333333]\n",
      " [0.5       ]\n",
      " [0.66666667]\n",
      " [0.83333333]\n",
      " [1.        ]\n",
      " [0.        ]\n",
      " [0.16666667]\n",
      " [0.33333333]\n",
      " [0.5       ]\n",
      " [0.66666667]\n",
      " [0.83333333]\n",
      " [1.        ]\n",
      " [0.        ]\n",
      " [0.16666667]\n",
      " [0.33333333]\n",
      " [0.5       ]\n",
      " [0.66666667]\n",
      " [0.83333333]\n",
      " [1.        ]\n",
      " [0.        ]\n",
      " [0.16666667]\n",
      " [0.33333333]\n",
      " [0.5       ]\n",
      " [0.66666667]\n",
      " [0.83333333]\n",
      " [1.        ]\n",
      " [0.        ]\n",
      " [0.16666667]\n",
      " [0.33333333]\n",
      " [0.5       ]\n",
      " [0.66666667]\n",
      " [0.83333333]\n",
      " [1.        ]\n",
      " [0.        ]\n",
      " [0.16666667]\n",
      " [0.33333333]\n",
      " [0.5       ]\n",
      " [0.66666667]\n",
      " [0.83333333]\n",
      " [1.        ]]\n"
     ]
    }
   ],
   "source": [
    "X = X.reshape([inputsize,1])\n",
    "Y = Y.reshape([inputsize, 1])\n",
    "print(X)"
   ]
  },
  {
   "cell_type": "code",
   "execution_count": 12,
   "metadata": {},
   "outputs": [
    {
     "name": "stdout",
     "output_type": "stream",
     "text": [
      "[[0.         0.        ]\n",
      " [0.16666667 0.        ]\n",
      " [0.33333333 0.        ]\n",
      " [0.5        0.        ]\n",
      " [0.66666667 0.        ]\n",
      " [0.83333333 0.        ]\n",
      " [1.         0.        ]\n",
      " [0.         0.16666667]\n",
      " [0.16666667 0.16666667]\n",
      " [0.33333333 0.16666667]\n",
      " [0.5        0.16666667]\n",
      " [0.66666667 0.16666667]\n",
      " [0.83333333 0.16666667]\n",
      " [1.         0.16666667]\n",
      " [0.         0.33333333]\n",
      " [0.16666667 0.33333333]\n",
      " [0.33333333 0.33333333]\n",
      " [0.5        0.33333333]\n",
      " [0.66666667 0.33333333]\n",
      " [0.83333333 0.33333333]\n",
      " [1.         0.33333333]\n",
      " [0.         0.5       ]\n",
      " [0.16666667 0.5       ]\n",
      " [0.33333333 0.5       ]\n",
      " [0.5        0.5       ]\n",
      " [0.66666667 0.5       ]\n",
      " [0.83333333 0.5       ]\n",
      " [1.         0.5       ]\n",
      " [0.         0.66666667]\n",
      " [0.16666667 0.66666667]\n",
      " [0.33333333 0.66666667]\n",
      " [0.5        0.66666667]\n",
      " [0.66666667 0.66666667]\n",
      " [0.83333333 0.66666667]\n",
      " [1.         0.66666667]\n",
      " [0.         0.83333333]\n",
      " [0.16666667 0.83333333]\n",
      " [0.33333333 0.83333333]\n",
      " [0.5        0.83333333]\n",
      " [0.66666667 0.83333333]\n",
      " [0.83333333 0.83333333]\n",
      " [1.         0.83333333]\n",
      " [0.         1.        ]\n",
      " [0.16666667 1.        ]\n",
      " [0.33333333 1.        ]\n",
      " [0.5        1.        ]\n",
      " [0.66666667 1.        ]\n",
      " [0.83333333 1.        ]\n",
      " [1.         1.        ]]\n"
     ]
    }
   ],
   "source": [
    "Coor = np.hstack((X, Y))\n",
    "print(Coor)"
   ]
  },
  {
   "cell_type": "code",
   "execution_count": 22,
   "metadata": {},
   "outputs": [
    {
     "name": "stdout",
     "output_type": "stream",
     "text": [
      "[[1, 0, 7], [1, 8, 7]]\n"
     ]
    }
   ],
   "source": [
    "TriCoor = [[1, 0, sqrtinputsize], [1, sqrtinputsize+1, sqrtinputsize]]\n",
    "print(TriCoor)"
   ]
  },
  {
   "cell_type": "code",
   "execution_count": 23,
   "metadata": {},
   "outputs": [],
   "source": [
    "TriCoor = np.kron(TriCoor, np.ones([sqrtinputsize-1, 1]))+np.kron(np.ones([2, 3]), np.linspace(0, sqrtinputsize-2, sqrtinputsize-1).reshape([sqrtinputsize-1, 1]))"
   ]
  },
  {
   "cell_type": "code",
   "execution_count": 62,
   "metadata": {},
   "outputs": [
    {
     "name": "stdout",
     "output_type": "stream",
     "text": [
      "[[ 2.  1.  8.]\n",
      " [ 3.  2.  9.]\n",
      " [ 4.  3. 10.]\n",
      " [ 5.  4. 11.]\n",
      " [ 6.  5. 12.]\n",
      " [ 7.  6. 13.]\n",
      " [ 2.  9.  8.]\n",
      " [ 3. 10.  9.]\n",
      " [ 4. 11. 10.]\n",
      " [ 5. 12. 11.]\n",
      " [ 6. 13. 12.]\n",
      " [ 7. 14. 13.]]\n"
     ]
    }
   ],
   "source": [
    "print(TriCoor)"
   ]
  },
  {
   "cell_type": "code",
   "execution_count": 24,
   "metadata": {},
   "outputs": [],
   "source": [
    "TriCoor = np.kron(TriCoor, np.ones([sqrtinputsize-1, 1]))+np.kron(np.ones([np.size(TriCoor, 0), np.size(TriCoor, 1)]), np.linspace(\n",
    "    0, sqrtinputsize-2, sqrtinputsize-1).reshape([sqrtinputsize-1, 1]) * sqrtinputsize)"
   ]
  },
  {
   "cell_type": "code",
   "execution_count": 25,
   "metadata": {},
   "outputs": [
    {
     "name": "stdout",
     "output_type": "stream",
     "text": [
      "[[ 1.  0.  7.]\n",
      " [ 8.  7. 14.]\n",
      " [15. 14. 21.]\n",
      " [22. 21. 28.]\n",
      " [29. 28. 35.]\n",
      " [36. 35. 42.]\n",
      " [ 2.  1.  8.]\n",
      " [ 9.  8. 15.]\n",
      " [16. 15. 22.]\n",
      " [23. 22. 29.]\n",
      " [30. 29. 36.]\n",
      " [37. 36. 43.]\n",
      " [ 3.  2.  9.]\n",
      " [10.  9. 16.]\n",
      " [17. 16. 23.]\n",
      " [24. 23. 30.]\n",
      " [31. 30. 37.]\n",
      " [38. 37. 44.]\n",
      " [ 4.  3. 10.]\n",
      " [11. 10. 17.]\n",
      " [18. 17. 24.]\n",
      " [25. 24. 31.]\n",
      " [32. 31. 38.]\n",
      " [39. 38. 45.]\n",
      " [ 5.  4. 11.]\n",
      " [12. 11. 18.]\n",
      " [19. 18. 25.]\n",
      " [26. 25. 32.]\n",
      " [33. 32. 39.]\n",
      " [40. 39. 46.]\n",
      " [ 6.  5. 12.]\n",
      " [13. 12. 19.]\n",
      " [20. 19. 26.]\n",
      " [27. 26. 33.]\n",
      " [34. 33. 40.]\n",
      " [41. 40. 47.]\n",
      " [ 1.  8.  7.]\n",
      " [ 8. 15. 14.]\n",
      " [15. 22. 21.]\n",
      " [22. 29. 28.]\n",
      " [29. 36. 35.]\n",
      " [36. 43. 42.]\n",
      " [ 2.  9.  8.]\n",
      " [ 9. 16. 15.]\n",
      " [16. 23. 22.]\n",
      " [23. 30. 29.]\n",
      " [30. 37. 36.]\n",
      " [37. 44. 43.]\n",
      " [ 3. 10.  9.]\n",
      " [10. 17. 16.]\n",
      " [17. 24. 23.]\n",
      " [24. 31. 30.]\n",
      " [31. 38. 37.]\n",
      " [38. 45. 44.]\n",
      " [ 4. 11. 10.]\n",
      " [11. 18. 17.]\n",
      " [18. 25. 24.]\n",
      " [25. 32. 31.]\n",
      " [32. 39. 38.]\n",
      " [39. 46. 45.]\n",
      " [ 5. 12. 11.]\n",
      " [12. 19. 18.]\n",
      " [19. 26. 25.]\n",
      " [26. 33. 32.]\n",
      " [33. 40. 39.]\n",
      " [40. 47. 46.]\n",
      " [ 6. 13. 12.]\n",
      " [13. 20. 19.]\n",
      " [20. 27. 26.]\n",
      " [27. 34. 33.]\n",
      " [34. 41. 40.]\n",
      " [41. 48. 47.]]\n"
     ]
    }
   ],
   "source": [
    "print(TriCoor)"
   ]
  },
  {
   "cell_type": "code",
   "execution_count": 26,
   "metadata": {},
   "outputs": [],
   "source": [
    "RightF = np.zeros([sqrtinputsize**2, 1])"
   ]
  },
  {
   "cell_type": "code",
   "execution_count": 27,
   "metadata": {},
   "outputs": [
    {
     "name": "stdout",
     "output_type": "stream",
     "text": [
      "[[0.]\n",
      " [0.]\n",
      " [0.]\n",
      " [0.]\n",
      " [0.]\n",
      " [0.]\n",
      " [0.]\n",
      " [0.]\n",
      " [0.]\n",
      " [0.]\n",
      " [0.]\n",
      " [0.]\n",
      " [0.]\n",
      " [0.]\n",
      " [0.]\n",
      " [0.]\n",
      " [0.]\n",
      " [0.]\n",
      " [0.]\n",
      " [0.]\n",
      " [0.]\n",
      " [0.]\n",
      " [0.]\n",
      " [0.]\n",
      " [0.]\n",
      " [0.]\n",
      " [0.]\n",
      " [0.]\n",
      " [0.]\n",
      " [0.]\n",
      " [0.]\n",
      " [0.]\n",
      " [0.]\n",
      " [0.]\n",
      " [0.]\n",
      " [0.]\n",
      " [0.]\n",
      " [0.]\n",
      " [0.]\n",
      " [0.]\n",
      " [0.]\n",
      " [0.]\n",
      " [0.]\n",
      " [0.]\n",
      " [0.]\n",
      " [0.]\n",
      " [0.]\n",
      " [0.]\n",
      " [0.]]\n"
     ]
    }
   ],
   "source": [
    "print(RightF)"
   ]
  },
  {
   "cell_type": "code",
   "execution_count": 28,
   "metadata": {},
   "outputs": [],
   "source": [
    "N_Coor = TriCoor[71][:]"
   ]
  },
  {
   "cell_type": "code",
   "execution_count": 30,
   "metadata": {},
   "outputs": [],
   "source": [
    "Point = np.ones([3,3])"
   ]
  },
  {
   "cell_type": "code",
   "execution_count": 31,
   "metadata": {},
   "outputs": [
    {
     "name": "stdout",
     "output_type": "stream",
     "text": [
      "[[1. 1. 1.]\n",
      " [1. 1. 1.]\n",
      " [1. 1. 1.]]\n"
     ]
    }
   ],
   "source": [
    "print(Point)"
   ]
  },
  {
   "cell_type": "code",
   "execution_count": 32,
   "metadata": {},
   "outputs": [],
   "source": [
    "Point[0][1] = Coor[int(N_Coor[0]-1)][0]\n",
    "Point[1][1] = Coor[int(N_Coor[1]-1)][0]\n",
    "Point[2][1] = Coor[int(N_Coor[2]-1)][0]\n",
    "Point[0][2] = Coor[int(N_Coor[0]-1)][1]\n",
    "Point[1][2] = Coor[int(N_Coor[1]-1)][1]\n",
    "Point[2][2] = Coor[int(N_Coor[2]-1)][1]"
   ]
  },
  {
   "cell_type": "code",
   "execution_count": 33,
   "metadata": {},
   "outputs": [
    {
     "name": "stdout",
     "output_type": "stream",
     "text": [
      "[[1.         0.83333333 0.83333333]\n",
      " [1.         0.83333333 1.        ]\n",
      " [1.         0.66666667 1.        ]]\n"
     ]
    }
   ],
   "source": [
    "print(Point)"
   ]
  },
  {
   "cell_type": "code",
   "execution_count": 90,
   "metadata": {},
   "outputs": [],
   "source": [
    "TriCoor = [[1, 0, sqrtinputsize], [1, sqrtinputsize+1, sqrtinputsize]]\n",
    "TriCoor = np.kron(TriCoor, np.ones([sqrtinputsize-1, 1]))+np.kron(np.ones(\n",
    "    [2, 3]), np.linspace(0, sqrtinputsize-2, sqrtinputsize-1).reshape([sqrtinputsize-1, 1]))\n",
    "TriCoor = np.kron(TriCoor, np.ones([sqrtinputsize-1, 1]))+np.kron(np.ones([np.size(TriCoor, 0), np.size(TriCoor, 1)]), np.linspace(\n",
    "    0, sqrtinputsize-2, sqrtinputsize-1).reshape([sqrtinputsize-1, 1]) * sqrtinputsize)\n"
   ]
  },
  {
   "cell_type": "code",
   "execution_count": 91,
   "metadata": {},
   "outputs": [
    {
     "name": "stdout",
     "output_type": "stream",
     "text": [
      "[[ 1.  0.  7.]\n",
      " [ 8.  7. 14.]\n",
      " [15. 14. 21.]\n",
      " [22. 21. 28.]\n",
      " [29. 28. 35.]\n",
      " [36. 35. 42.]\n",
      " [ 2.  1.  8.]\n",
      " [ 9.  8. 15.]\n",
      " [16. 15. 22.]\n",
      " [23. 22. 29.]\n",
      " [30. 29. 36.]\n",
      " [37. 36. 43.]\n",
      " [ 3.  2.  9.]\n",
      " [10.  9. 16.]\n",
      " [17. 16. 23.]\n",
      " [24. 23. 30.]\n",
      " [31. 30. 37.]\n",
      " [38. 37. 44.]\n",
      " [ 4.  3. 10.]\n",
      " [11. 10. 17.]\n",
      " [18. 17. 24.]\n",
      " [25. 24. 31.]\n",
      " [32. 31. 38.]\n",
      " [39. 38. 45.]\n",
      " [ 5.  4. 11.]\n",
      " [12. 11. 18.]\n",
      " [19. 18. 25.]\n",
      " [26. 25. 32.]\n",
      " [33. 32. 39.]\n",
      " [40. 39. 46.]\n",
      " [ 6.  5. 12.]\n",
      " [13. 12. 19.]\n",
      " [20. 19. 26.]\n",
      " [27. 26. 33.]\n",
      " [34. 33. 40.]\n",
      " [41. 40. 47.]\n",
      " [ 1.  8.  7.]\n",
      " [ 8. 15. 14.]\n",
      " [15. 22. 21.]\n",
      " [22. 29. 28.]\n",
      " [29. 36. 35.]\n",
      " [36. 43. 42.]\n",
      " [ 2.  9.  8.]\n",
      " [ 9. 16. 15.]\n",
      " [16. 23. 22.]\n",
      " [23. 30. 29.]\n",
      " [30. 37. 36.]\n",
      " [37. 44. 43.]\n",
      " [ 3. 10.  9.]\n",
      " [10. 17. 16.]\n",
      " [17. 24. 23.]\n",
      " [24. 31. 30.]\n",
      " [31. 38. 37.]\n",
      " [38. 45. 44.]\n",
      " [ 4. 11. 10.]\n",
      " [11. 18. 17.]\n",
      " [18. 25. 24.]\n",
      " [25. 32. 31.]\n",
      " [32. 39. 38.]\n",
      " [39. 46. 45.]\n",
      " [ 5. 12. 11.]\n",
      " [12. 19. 18.]\n",
      " [19. 26. 25.]\n",
      " [26. 33. 32.]\n",
      " [33. 40. 39.]\n",
      " [40. 47. 46.]\n",
      " [ 6. 13. 12.]\n",
      " [13. 20. 19.]\n",
      " [20. 27. 26.]\n",
      " [27. 34. 33.]\n",
      " [34. 41. 40.]\n",
      " [41. 48. 47.]]\n"
     ]
    }
   ],
   "source": [
    "print(TriCoor)"
   ]
  },
  {
   "cell_type": "code",
   "execution_count": 92,
   "metadata": {},
   "outputs": [
    {
     "data": {
      "text/plain": [
       "<matplotlib.figure.Figure at 0x218291aca20>"
      ]
     },
     "metadata": {},
     "output_type": "display_data"
    }
   ],
   "source": [
    "import numpy as np\n",
    "from basicequation import *\n",
    "'''\n",
    "def f(x, y): return x**2+y**2;\n",
    "def ub(x, y): return 0;\n",
    "def ut(x, y): return 0.5*(x**2);\n",
    "def ul(x, y): return np.sin(np.pi*y);\n",
    "def ur(x, y): return np.exp(np.pi)*np.sin(np.pi*y) + 0.5*(y**2);\n",
    "'''\n",
    "\n",
    "def f(x, y): return ((np.pi**2)*(x - x**2)+2)*np.sin(np.pi*y)+((np.pi**2)*(y - y**2)+2)*np.sin(np.pi*x);\n",
    "\n",
    "\n",
    "inputsize = 49\n",
    "inputsize = int(inputsize)\n",
    "sqrtinputsize = int(np.sqrt(inputsize))\n",
    "outputsize = int((2**(np.log2(np.sqrt(inputsize)+1)-1)-1)**2)\n",
    "sqrtoutputsize = int(np.sqrt(outputsize))\n",
    "[X, Y] = np.meshgrid(np.linspace(0, 1, sqrtinputsize),np.linspace(0, 1, sqrtinputsize))\n",
    "X = X.reshape([inputsize,1])\n",
    "Y = Y.reshape([inputsize, 1])\n",
    "Coor = np.hstack((X, Y))\n",
    "TriCoor = [[1, 0, sqrtinputsize], [1, sqrtinputsize+1, sqrtinputsize]]\n",
    "TriCoor = np.kron(TriCoor, np.ones([sqrtinputsize-1, 1]))+np.kron(np.ones(\n",
    "    [2, 3]), np.linspace(0, sqrtinputsize-2, sqrtinputsize-1).reshape([sqrtinputsize-1, 1]))\n",
    "TriCoor = np.kron(TriCoor, np.ones([sqrtinputsize-1, 1]))+np.kron(np.ones([np.size(TriCoor, 0), np.size(TriCoor, 1)]), np.linspace(\n",
    "    0, sqrtinputsize-2, sqrtinputsize-1).reshape([sqrtinputsize-1, 1]) * sqrtinputsize)\n",
    "\n",
    "RightF = np.zeros([sqrtinputsize**2, 1])\n",
    "\n",
    "for i in range(np.size(TriCoor, 0)):\n",
    "    N_Coor = TriCoor[i][:]\n",
    "    Point = np.ones([3,3])\n",
    "    Point[0][1] = Coor[int(N_Coor[0])][0]\n",
    "    Point[1][1] = Coor[int(N_Coor[1])][0]\n",
    "    Point[2][1] = Coor[int(N_Coor[2])][0]\n",
    "    Point[0][2] = Coor[int(N_Coor[0])][1]\n",
    "    Point[1][2] = Coor[int(N_Coor[1])][1]\n",
    "    Point[2][2] = Coor[int(N_Coor[2])][1]\n",
    "    Triarea = 0.5*(1/(sqrtinputsize-1)**2)\n",
    "    Inte = f((Point[0][1]+Point[1][1]+Point[2][1])/3,\n",
    "             (Point[0][2]+Point[1][2]+Point[2][2])/3)*Triarea\n",
    "    \n",
    "    RightF[int(N_Coor[0])] = RightF[int(N_Coor[0])]+Inte\n",
    "    RightF[int(N_Coor[1])] = RightF[int(N_Coor[1])]+Inte\n",
    "    RightF[int(N_Coor[2])] = RightF[int(N_Coor[2])]+Inte\n",
    "\n",
    "A = Possion(inputsize)\n",
    "\n",
    "U = np.linalg.solve(A, RightF)\n",
    "\n",
    "\n",
    "from mpl_toolkits.mplot3d import Axes3D\n",
    "import matplotlib.pyplot as plt\n",
    "\n",
    "fig = plt.figure()\n",
    "ax = fig.gca(projection='3d')\n",
    "ax.plot_trisurf(X.reshape(inputsize), Y.reshape(inputsize), U.reshape(inputsize),linewidth=0.2, antialiased=True)\n",
    "plt.show()\n"
   ]
  },
  {
   "cell_type": "code",
   "execution_count": 93,
   "metadata": {},
   "outputs": [
    {
     "name": "stdout",
     "output_type": "stream",
     "text": [
      "[[1.         1.         0.83333333]\n",
      " [1.         1.         1.        ]\n",
      " [1.         0.83333333 1.        ]]\n"
     ]
    }
   ],
   "source": [
    "print(Point)"
   ]
  },
  {
   "cell_type": "code",
   "execution_count": 94,
   "metadata": {},
   "outputs": [
    {
     "name": "stdout",
     "output_type": "stream",
     "text": [
      "0.013888888888888888\n"
     ]
    }
   ],
   "source": [
    "print(Triarea)"
   ]
  },
  {
   "cell_type": "code",
   "execution_count": 95,
   "metadata": {},
   "outputs": [
    {
     "name": "stdout",
     "output_type": "stream",
     "text": [
      "0.012144999917986694\n"
     ]
    }
   ],
   "source": [
    "print(Inte)"
   ]
  },
  {
   "cell_type": "code",
   "execution_count": 96,
   "metadata": {},
   "outputs": [
    {
     "name": "stdout",
     "output_type": "stream",
     "text": [
      "[[0.012145  ]\n",
      " [0.07182312]\n",
      " [0.1253141 ]\n",
      " [0.15024682]\n",
      " [0.14099462]\n",
      " [0.09968407]\n",
      " [0.03826999]\n",
      " [0.07182312]\n",
      " [0.25837571]\n",
      " [0.39368459]\n",
      " [0.44547853]\n",
      " [0.40345519]\n",
      " [0.27651393]\n",
      " [0.09968407]\n",
      " [0.1253141 ]\n",
      " [0.39368459]\n",
      " [0.57573412]\n",
      " [0.64227519]\n",
      " [0.58097017]\n",
      " [0.40345519]\n",
      " [0.14099462]\n",
      " [0.15024682]\n",
      " [0.44547853]\n",
      " [0.64227519]\n",
      " [0.71213483]\n",
      " [0.64227519]\n",
      " [0.44547853]\n",
      " [0.15024682]\n",
      " [0.14099462]\n",
      " [0.40345519]\n",
      " [0.58097017]\n",
      " [0.64227519]\n",
      " [0.57573412]\n",
      " [0.39368459]\n",
      " [0.1253141 ]\n",
      " [0.09968407]\n",
      " [0.27651393]\n",
      " [0.40345519]\n",
      " [0.44547853]\n",
      " [0.39368459]\n",
      " [0.25837571]\n",
      " [0.07182312]\n",
      " [0.03826999]\n",
      " [0.09968407]\n",
      " [0.14099462]\n",
      " [0.15024682]\n",
      " [0.1253141 ]\n",
      " [0.07182312]\n",
      " [0.012145  ]]\n"
     ]
    }
   ],
   "source": [
    "print(RightF)"
   ]
  },
  {
   "cell_type": "code",
   "execution_count": 97,
   "metadata": {},
   "outputs": [
    {
     "name": "stdout",
     "output_type": "stream",
     "text": [
      "[[0.         0.        ]\n",
      " [0.16666667 0.        ]\n",
      " [0.33333333 0.        ]\n",
      " [0.5        0.        ]\n",
      " [0.66666667 0.        ]\n",
      " [0.83333333 0.        ]\n",
      " [1.         0.        ]\n",
      " [0.         0.16666667]\n",
      " [0.16666667 0.16666667]\n",
      " [0.33333333 0.16666667]\n",
      " [0.5        0.16666667]\n",
      " [0.66666667 0.16666667]\n",
      " [0.83333333 0.16666667]\n",
      " [1.         0.16666667]\n",
      " [0.         0.33333333]\n",
      " [0.16666667 0.33333333]\n",
      " [0.33333333 0.33333333]\n",
      " [0.5        0.33333333]\n",
      " [0.66666667 0.33333333]\n",
      " [0.83333333 0.33333333]\n",
      " [1.         0.33333333]\n",
      " [0.         0.5       ]\n",
      " [0.16666667 0.5       ]\n",
      " [0.33333333 0.5       ]\n",
      " [0.5        0.5       ]\n",
      " [0.66666667 0.5       ]\n",
      " [0.83333333 0.5       ]\n",
      " [1.         0.5       ]\n",
      " [0.         0.66666667]\n",
      " [0.16666667 0.66666667]\n",
      " [0.33333333 0.66666667]\n",
      " [0.5        0.66666667]\n",
      " [0.66666667 0.66666667]\n",
      " [0.83333333 0.66666667]\n",
      " [1.         0.66666667]\n",
      " [0.         0.83333333]\n",
      " [0.16666667 0.83333333]\n",
      " [0.33333333 0.83333333]\n",
      " [0.5        0.83333333]\n",
      " [0.66666667 0.83333333]\n",
      " [0.83333333 0.83333333]\n",
      " [1.         0.83333333]\n",
      " [0.         1.        ]\n",
      " [0.16666667 1.        ]\n",
      " [0.33333333 1.        ]\n",
      " [0.5        1.        ]\n",
      " [0.66666667 1.        ]\n",
      " [0.83333333 1.        ]\n",
      " [1.         1.        ]]\n"
     ]
    }
   ],
   "source": [
    "print(Coor)"
   ]
  },
  {
   "cell_type": "code",
   "execution_count": 98,
   "metadata": {},
   "outputs": [
    {
     "name": "stdout",
     "output_type": "stream",
     "text": [
      "range(0, 2)\n"
     ]
    }
   ],
   "source": [
    "print(range(0,2))"
   ]
  },
  {
   "cell_type": "code",
   "execution_count": 1,
   "metadata": {},
   "outputs": [
    {
     "ename": "NameError",
     "evalue": "name 'np' is not defined",
     "output_type": "error",
     "traceback": [
      "\u001b[1;31m---------------------------------------------------------------------------\u001b[0m",
      "\u001b[1;31mNameError\u001b[0m                                 Traceback (most recent call last)",
      "\u001b[1;32m<ipython-input-1-3e6619d52c92>\u001b[0m in \u001b[0;36m<module>\u001b[1;34m()\u001b[0m\n\u001b[1;32m----> 1\u001b[1;33m \u001b[0mA\u001b[0m \u001b[1;33m=\u001b[0m \u001b[0mnp\u001b[0m\u001b[1;33m.\u001b[0m\u001b[0mzeros\u001b[0m\u001b[1;33m(\u001b[0m\u001b[1;33m[\u001b[0m\u001b[1;36m3\u001b[0m\u001b[1;33m,\u001b[0m\u001b[1;36m3\u001b[0m\u001b[1;33m]\u001b[0m\u001b[1;33m)\u001b[0m\u001b[1;33m\u001b[0m\u001b[0m\n\u001b[0m",
      "\u001b[1;31mNameError\u001b[0m: name 'np' is not defined"
     ]
    }
   ],
   "source": [
    "A = np.zeros([3,3])"
   ]
  },
  {
   "cell_type": "code",
   "execution_count": 2,
   "metadata": {},
   "outputs": [],
   "source": [
    "import numpy as np"
   ]
  },
  {
   "cell_type": "code",
   "execution_count": 3,
   "metadata": {},
   "outputs": [],
   "source": [
    "A = np.zeros([3,3])"
   ]
  },
  {
   "cell_type": "code",
   "execution_count": 4,
   "metadata": {},
   "outputs": [],
   "source": [
    "A[1,1]=1"
   ]
  },
  {
   "cell_type": "code",
   "execution_count": 5,
   "metadata": {},
   "outputs": [],
   "source": [
    "A[1][2] = 1"
   ]
  },
  {
   "cell_type": "code",
   "execution_count": 6,
   "metadata": {},
   "outputs": [
    {
     "name": "stdout",
     "output_type": "stream",
     "text": [
      "[[0. 0. 0.]\n",
      " [0. 1. 1.]\n",
      " [0. 0. 0.]]\n"
     ]
    }
   ],
   "source": [
    "print(A)"
   ]
  },
  {
   "cell_type": "code",
   "execution_count": 8,
   "metadata": {},
   "outputs": [],
   "source": [
    "for i in range(3):\n",
    "    A[i,0] = 1"
   ]
  },
  {
   "cell_type": "code",
   "execution_count": 24,
   "metadata": {},
   "outputs": [],
   "source": [
    "import numpy as np\n",
    "\n",
    "def a(x,y):return np.sin(x,y)\n",
    "def f(x, y): return x**2+y**2\n",
    "def ub(x): return 0;\n",
    "def ut(x): return 0.5*(x**2);\n",
    "def ul(y): return np.sin(np.pi*y);\n",
    "def ur(y): return np.exp(np.pi)*np.sin(np.pi*y) + 0.5*(y**2);\n",
    "\n",
    "def Restriction(inputsize):\n",
    "    inputsize = int(inputsize)\n",
    "    sqrtinputsize = int(np.sqrt(inputsize))\n",
    "    outputsize = int((2**(np.log2(np.sqrt(inputsize)+1)-1)-1)**2)\n",
    "    sqrtoutputsize = int(np.sqrt(outputsize))\n",
    "    OUTPUT = np.zeros([outputsize, inputsize])\n",
    "    for j in range(sqrtoutputsize):\n",
    "        for i in range(sqrtoutputsize):\n",
    "            OUTPUT[i+sqrtoutputsize*j][2*i+j*2*sqrtinputsize] = 1/16\n",
    "            OUTPUT[i+sqrtoutputsize*j][1+2*i+j*2*sqrtinputsize] = 1/8\n",
    "            OUTPUT[i+sqrtoutputsize*j][2+2*i+j*2*sqrtinputsize] = 1/16\n",
    "            OUTPUT[i+sqrtoutputsize*j][sqrtinputsize+2*i+j*2*sqrtinputsize] = 1/8\n",
    "            OUTPUT[i+sqrtoutputsize*j][1+sqrtinputsize+2*i+j*2*sqrtinputsize] = 1/4\n",
    "            OUTPUT[i+sqrtoutputsize*j][2+sqrtinputsize+2*i+j*2*sqrtinputsize] = 1/8\n",
    "            OUTPUT[i+sqrtoutputsize*j][2*sqrtinputsize+2*i+j*2*sqrtinputsize] = 1/16\n",
    "            OUTPUT[i+sqrtoutputsize*j][1+2*sqrtinputsize +2*i+j*2*sqrtinputsize] = 1/8\n",
    "            OUTPUT[i+sqrtoutputsize*j][2+2*sqrtinputsize+2*i+j*2*sqrtinputsize] = 1/16\n",
    "    return np.matrix(OUTPUT)\n",
    "\n",
    "def Interpolation(inputsize):\n",
    "    inputsize = int(inputsize)\n",
    "    sqrtinputsize = int(np.sqrt(inputsize))\n",
    "    outputsize = int(round(2**(np.log2(np.sqrt(inputsize)+1)+1)-1)**2)\n",
    "    sqrtoutputsize = int(np.sqrt(outputsize))\n",
    "    OUTPUT = 4*np.transpose(Restriction(outputsize))\n",
    "    return np.matrix(OUTPUT)\n",
    "\n",
    "\n",
    "def Possion(inputsize):\n",
    "    inputsize = int(inputsize)\n",
    "    sqrtinputsize = int(np.sqrt(inputsize))\n",
    "    A1 = 2*np.eye(sqrtinputsize)\n",
    "    for i in range(sqrtinputsize-1):\n",
    "        A1[i, i+1] = -1\n",
    "        A1[i+1, i] = -1\n",
    "    I = np.eye(sqrtinputsize)\n",
    "    OUTPUT = ((sqrtinputsize+1)**2)*(np.kron(I, A1)+np.kron(A1, I))\n",
    "    return np.matrix(OUTPUT)\n",
    "\n",
    "\n"
   ]
  },
  {
   "cell_type": "code",
   "execution_count": 54,
   "metadata": {},
   "outputs": [
    {
     "name": "stdout",
     "output_type": "stream",
     "text": [
      "[[0.19530264 0.27411826 0.19558165]\n",
      " [0.46289812 0.64308873 0.46401419]\n",
      " [0.57510857 0.81289923 0.57929383]]\n",
      "[[0.00000000e+00 7.07106781e-01 1.00000000e+00 7.07106781e-01\n",
      "  1.22464680e-16]\n",
      " [0.00000000e+00 0.00000000e+00 0.00000000e+00 0.00000000e+00\n",
      "  0.00000000e+00]\n",
      " [0.00000000e+00 0.00000000e+00 0.00000000e+00 0.00000000e+00\n",
      "  0.00000000e+00]\n",
      " [0.00000000e+00 0.00000000e+00 0.00000000e+00 0.00000000e+00\n",
      "  0.00000000e+00]\n",
      " [0.00000000e+00 1.63941907e+01 2.32656926e+01 1.66441907e+01\n",
      "  5.00000000e-01]]\n"
     ]
    }
   ],
   "source": [
    "import numpy as np\n",
    "from basicequation import *\n",
    "\n",
    "\n",
    "inputsize = 9\n",
    "inputsize = int(inputsize)\n",
    "sqrtinputsize = int(np.sqrt(inputsize))\n",
    "outputsize = int((2**(np.log2(np.sqrt(inputsize)+1)-1)-1)**2)\n",
    "sqrtoutputsize = int(np.sqrt(outputsize))\n",
    "h = 1/(sqrtinputsize+1)\n",
    "[Xin, Yin] = np.meshgrid(np.linspace(h, 1-h, sqrtinputsize),np.linspace(h, 1-h, sqrtinputsize))\n",
    "[Xw, Yw] = np.meshgrid(np.linspace(0, 1, sqrtinputsize+2),np.linspace(0, 1, sqrtinputsize+2))\n",
    "B = np.zeros([sqrtinputsize, sqrtinputsize])\n",
    "B = f(Xin, Yin)\n",
    "B[:][0] = ub(np.linspace(h, 1-h, sqrtinputsize))\n",
    "B[:][-1] = ut(np.linspace(h, 1-h, sqrtinputsize))\n",
    "B[-1][:] = ur(np.linspace(h, 1-h, sqrtinputsize))\n",
    "B[0][:] = ul(np.linspace(h, 1-h, sqrtinputsize))\n",
    "B = B.reshape([inputsize,1])\n",
    "A = Possion(inputsize)\n",
    "\n",
    "U = np.linalg.solve(A,B)\n",
    "U = U.reshape([sqrtinputsize, sqrtinputsize])\n",
    "\n",
    "print(U)\n",
    "Uw = np.zeros([sqrtinputsize+2,sqrtinputsize+2])\n",
    "Uw[0][:] = ub(np.linspace(0, 1, sqrtinputsize+2))\n",
    "Uw[-1][:] = ut(np.linspace(0, 1, sqrtinputsize+2))\n",
    "Uw[:][0] = ul(np.linspace(0, 1, sqrtinputsize+2))\n",
    "Uw[:][-1] = ur(np.linspace(0, 1, sqrtinputsize+2))\n",
    "print(Uw)\n",
    "               "
   ]
  },
  {
   "cell_type": "code",
   "execution_count": null,
   "metadata": {},
   "outputs": [],
   "source": [
    "import numpy as np\n",
    "from basicequation import *\n",
    "\n",
    "\n",
    "inputsize = 9\n",
    "inputsize = int(inputsize)\n",
    "sqrtinputsize = int(np.sqrt(inputsize))\n",
    "outputsize = int((2**(np.log2(np.sqrt(inputsize)+1)-1)-1)**2)\n",
    "sqrtoutputsize = int(np.sqrt(outputsize))\n",
    "h = 1/(sqrtinputsize+1)\n",
    "[Xin, Yin] = np.meshgrid(np.linspace(h, 1-h, sqrtinputsize),np.linspace(h, 1-h, sqrtinputsize))\n",
    "[Xw, Yw] = np.meshgrid(np.linspace(0, 1, sqrtinputsize+2),np.linspace(0, 1, sqrtinputsize+2))\n",
    "B = np.zeros([sqrtinputsize, sqrtinputsize])\n",
    "B = f(Xin, Yin)\n",
    "B[0][:] = ub(np.linspace(h,1-h,sqrtinputsize))\n",
    "B[-1][:] = ut(np.linspace(h, 1-h, sqrtinputsize))\n",
    "B[:][0] = ul(np.linspace(h,1-h,sqrtinputsize))\n",
    "B[:][-1] = ur(np.linspace(h, 1-h, sqrtinputsize))\n",
    "\n",
    "A = Possion(inputsize)\n",
    "\n",
    "Uin = np.linalg.solve(A, B.reshape([inputsize,1])).reshape([sqrtinputsize,sqrtinputsize])\n",
    "\n",
    "Uw = np.zeros([sqrtinputsize+2,sqrtinputsize+2])\n",
    "Uw[0][:] = ub(np.linspace(0, 1, sqrtinputsize+2))\n",
    "Uw[-1][:] = ut(np.linspace(0, 1, sqrtinputsize+2))\n",
    "Uw[:][0] = ul(np.linspace(0, 1, sqrtinputsize+2))\n",
    "Uw[:][-1] = ur(np.linspace(0, 1, sqrtinputsize+2))\n",
    "for i in range(sqrtinputsize):\n",
    "    for j in range(sqrtinputsize):\n",
    "        Uw[i+1][j+1] = Uin[i][j] \n",
    "\n",
    "\n",
    "from mpl_toolkits.mplot3d import Axes3D\n",
    "import matplotlib.pyplot as plt\n",
    "\n",
    "fig = plt.figure()\n",
    "ax = fig.gca(projection='3d')\n",
    "ax.plot_trisurf(Xw.reshape((sqrtinputsize+2)**2), Yw.reshape((sqrtinputsize+2)** 2), Uw.reshape((sqrtinputsize+2)**2), linewidth=0.2, antialiased=True)\n",
    "plt.show()\n",
    "\n"
   ]
  },
  {
   "cell_type": "code",
   "execution_count": null,
   "metadata": {},
   "outputs": [],
   "source": []
  }
 ],
 "metadata": {
  "kernelspec": {
   "display_name": "Python 3",
   "language": "python",
   "name": "python3"
  },
  "language_info": {
   "codemirror_mode": {
    "name": "ipython",
    "version": 3
   },
   "file_extension": ".py",
   "mimetype": "text/x-python",
   "name": "python",
   "nbconvert_exporter": "python",
   "pygments_lexer": "ipython3",
   "version": "3.5.4"
  }
 },
 "nbformat": 4,
 "nbformat_minor": 2
}

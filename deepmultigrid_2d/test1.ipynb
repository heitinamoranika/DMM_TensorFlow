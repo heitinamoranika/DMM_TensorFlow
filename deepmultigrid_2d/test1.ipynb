{
 "cells": [
  {
   "cell_type": "code",
   "execution_count": 30,
   "metadata": {},
   "outputs": [],
   "source": [
    "import numpy as np\n",
    "\n",
    "def a(x,y):return np.sin(x,y)\n",
    "\n",
    "\n",
    "def f(x, y): return ((np.pi**2)*x*(1-x)+2) * np.sin(np.pi*y)+((np.pi**2)*y*(1-y)+2)*np.sin(np.pi*x)\n",
    "def ub(x): return 0\n",
    "def ut(x): return 0\n",
    "def ul(y): return 0\n",
    "def ur(y): return 0\n",
    "\n",
    "'''\n",
    "def f(x, y): return x**2+y**2\n",
    "def ub(x): return 0\n",
    "def ut(x): return 0.5*x**2\n",
    "def ul(y): return np.sin(np.pi*y)\n",
    "def ur(y): return np.exp(np.pi)*np.sin(np.pi*y)+0.5*y**2\n",
    "'''\n",
    "def Restriction(inputsize):\n",
    "    inputsize = int(inputsize)\n",
    "    sqrtinputsize = int(np.sqrt(inputsize))\n",
    "    outputsize = int((2**(np.log2(np.sqrt(inputsize)+1)-1)-1)**2)\n",
    "    sqrtoutputsize = int(np.sqrt(outputsize))\n",
    "    OUTPUT = np.zeros([outputsize, inputsize])\n",
    "    for j in range(sqrtoutputsize):\n",
    "        for i in range(sqrtoutputsize):\n",
    "            OUTPUT[i+sqrtoutputsize*j][2*i+j*2*sqrtinputsize] = 1/16\n",
    "            OUTPUT[i+sqrtoutputsize*j][1+2*i+j*2*sqrtinputsize] = 1/8\n",
    "            OUTPUT[i+sqrtoutputsize*j][2+2*i+j*2*sqrtinputsize] = 1/16\n",
    "            OUTPUT[i+sqrtoutputsize*j][sqrtinputsize+2*i+j*2*sqrtinputsize] = 1/8\n",
    "            OUTPUT[i+sqrtoutputsize*j][1+sqrtinputsize+2*i+j*2*sqrtinputsize] = 1/4\n",
    "            OUTPUT[i+sqrtoutputsize*j][2+sqrtinputsize+2*i+j*2*sqrtinputsize] = 1/8\n",
    "            OUTPUT[i+sqrtoutputsize*j][2*sqrtinputsize+2*i+j*2*sqrtinputsize] = 1/16\n",
    "            OUTPUT[i+sqrtoutputsize*j][1+2*sqrtinputsize +2*i+j*2*sqrtinputsize] = 1/8\n",
    "            OUTPUT[i+sqrtoutputsize*j][2+2*sqrtinputsize+2*i+j*2*sqrtinputsize] = 1/16\n",
    "    return np.matrix(OUTPUT)\n",
    "\n",
    "def Interpolation(inputsize):\n",
    "    inputsize = int(inputsize)\n",
    "    OUTPUT = 4*np.transpose(Restriction(inputsize))\n",
    "    return np.matrix(OUTPUT)\n",
    "\n",
    "\n",
    "def Possion(inputsize):\n",
    "    inputsize = int(inputsize)\n",
    "    sqrtinputsize = int(np.sqrt(inputsize))\n",
    "    A1 = 2*np.eye(sqrtinputsize)\n",
    "    for i in range(sqrtinputsize-1):\n",
    "        A1[i, i+1] = -1\n",
    "        A1[i+1, i] = -1\n",
    "    I = np.eye(sqrtinputsize)\n",
    "    OUTPUT = ((sqrtinputsize+1)**2)*(np.kron(I, A1)+np.kron(A1, I))\n",
    "    return np.matrix(OUTPUT)\n",
    "\n",
    "\n"
   ]
  },
  {
   "cell_type": "code",
   "execution_count": 35,
   "metadata": {},
   "outputs": [
    {
     "data": {
      "image/png": "[encoded data removed]",
      "text/plain": [
       "<matplotlib.figure.Figure at 0x1b743015588>"
      ]
     },
     "metadata": {},
     "output_type": "display_data"
    }
   ],
   "source": [
    "import numpy as np\n",
    "from basicequation import *\n",
    "from multigrid import *\n",
    "\n",
    "inputsize = 9\n",
    "inputsize = int(inputsize)\n",
    "sqrtinputsize = int(np.sqrt(inputsize))\n",
    "outputsize = int((2**(np.log2(np.sqrt(inputsize)+1)-1)-1)**2)\n",
    "sqrtoutputsize = int(np.sqrt(outputsize))\n",
    "h = 1/(sqrtinputsize+1)\n",
    "\n",
    "[Xin, Yin] = np.meshgrid(np.linspace(h, 1-h, sqrtinputsize),\n",
    "                         np.linspace(h, 1-h, sqrtinputsize))\n",
    "[Xw, Yw] = np.meshgrid(np.linspace(0, 1, sqrtinputsize+2),\n",
    "                       np.linspace(0, 1, sqrtinputsize+2))\n",
    "\n",
    "B = np.zeros([sqrtinputsize, sqrtinputsize])\n",
    "B = f(Xin, Yin)\n",
    "B[0][:] = ub(np.linspace(h, 1-h, sqrtinputsize))\n",
    "B[-1][:] = ut(np.linspace(h, 1-h, sqrtinputsize))\n",
    "B[:][0] = ul(np.linspace(h, 1-h, sqrtinputsize))\n",
    "B[:][-1] = ur(np.linspace(h, 1-h, sqrtinputsize))\n",
    "B = B.reshape([inputsize,1])\n",
    "A = Possion(inputsize)\n",
    "\n",
    "R = Restriction(inputsize)\n",
    "P = Interpolation(inputsize)\n",
    "\n",
    "Uin = np.linalg.solve(A, B.reshape([inputsize, 1])).reshape([sqrtinputsize, sqrtinputsize])\n",
    "\n",
    "\n",
    "Uw = np.zeros([sqrtinputsize+2,sqrtinputsize+2])\n",
    "Uw[0][:] = ub(np.linspace(0, 1, sqrtinputsize+2))\n",
    "Uw[-1][:] = ut(np.linspace(0, 1, sqrtinputsize+2))\n",
    "Uw[:][0] = ul(np.linspace(0, 1, sqrtinputsize+2))\n",
    "Uw[:][-1] = ur(np.linspace(0, 1, sqrtinputsize+2))\n",
    "for i in range(sqrtinputsize):\n",
    "    for j in range(sqrtinputsize):\n",
    "        Uw[i+1][j+1] = Uin[i][j]\n",
    "\n",
    "from mpl_toolkits.mplot3d import Axes3D\n",
    "import matplotlib.pyplot as plt\n",
    "from matplotlib import cm\n",
    "from matplotlib.ticker import LinearLocator, FormatStrFormatter\n",
    "fig = plt.figure()\n",
    "ax = fig.gca(projection='3d')\n",
    "surf = ax.plot_surface(Xw, Yw, Uw, cmap=cm.coolwarm,linewidth=0, antialiased=False)\n",
    "fig.colorbar(surf, shrink=0.5, aspect=5)\n",
    "plt.show()\n"
   ]
  },
  {
   "cell_type": "code",
   "execution_count": 34,
   "metadata": {},
   "outputs": [
    {
     "name": "stdout",
     "output_type": "stream",
     "text": [
      "[[ 64. -16.   0. -16.  -0.   0.   0.   0.   0.]\n",
      " [-16.  64. -16.  -0. -16.  -0.   0.   0.   0.]\n",
      " [  0. -16.  64.   0.  -0. -16.   0.   0.   0.]\n",
      " [-16.  -0.   0.  64. -16.   0. -16.  -0.   0.]\n",
      " [ -0. -16.  -0. -16.  64. -16.  -0. -16.  -0.]\n",
      " [  0.  -0. -16.   0. -16.  64.   0.  -0. -16.]\n",
      " [  0.   0.   0. -16.  -0.   0.  64. -16.   0.]\n",
      " [  0.   0.   0.  -0. -16.  -0. -16.  64. -16.]\n",
      " [  0.   0.   0.   0.  -0. -16.   0. -16.  64.]]\n",
      "[[0.0625 0.125  0.0625 0.125  0.25   0.125  0.0625 0.125  0.0625]]\n",
      "[[0.0625 0.125  0.0625 0.125  0.25   0.125  0.0625 0.125  0.0625]]\n"
     ]
    }
   ],
   "source": [
    "print(A)\n",
    "print(R)\n",
    "print(P)"
   ]
  },
  {
   "cell_type": "code",
   "execution_count": null,
   "metadata": {},
   "outputs": [],
   "source": []
  }
 ],
 "metadata": {
  "kernelspec": {
   "display_name": "Python 3",
   "language": "python",
   "name": "python3"
  },
  "language_info": {
   "codemirror_mode": {
    "name": "ipython",
    "version": 3
   },
   "file_extension": ".py",
   "mimetype": "text/x-python",
   "name": "python",
   "nbconvert_exporter": "python",
   "pygments_lexer": "ipython3",
   "version": "3.5.4"
  }
 },
 "nbformat": 4,
 "nbformat_minor": 2
}

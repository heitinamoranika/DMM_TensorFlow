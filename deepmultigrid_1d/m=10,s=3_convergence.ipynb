{
 "cells": [
  {
   "cell_type": "code",
   "execution_count": 1,
   "metadata": {},
   "outputs": [],
   "source": [
    "import numpy as np\n",
    "import tensorflow as tf\n",
    "import matplotlib.pyplot as plt\n",
    "\n",
    "from basicpossion import *\n",
    "from spectralradius import *\n",
    "from norm import *\n",
    "from local_optimizer_Adam import *\n",
    "from homotopy_optimizer_Helmholtz import *\n",
    "from multigrid_two_level import *\n",
    "m=8\n",
    "s=2\n",
    "kmax=175\n",
    "NUM_EPOCHS=20"
   ]
  },
  {
   "cell_type": "code",
   "execution_count": 2,
   "metadata": {},
   "outputs": [
    {
     "name": "stdout",
     "output_type": "stream",
     "text": [
      "1.281155018583419\n",
      "0.22306605021218898\n",
      "0.2\n",
      "0.2258675178989801\n",
      "0.30000000000000004\n",
      "0.22921489375510812\n",
      "0.4\n",
      "0.2329244034758806\n",
      "0.5\n",
      "0.23677270301224335\n",
      "0.6\n",
      "0.2411420214585674\n",
      "0.7\n",
      "0.2392809975602371\n",
      "0.7999999999999999\n",
      "0.17839627190862292\n",
      "0.8999999999999999\n",
      "0.12939169296566347\n",
      "0.9999999999999999\n",
      "0.12871214051902874\n",
      "1.0999999999999999\n",
      "1.281155018583419\n",
      "0.1310358157738741\n"
     ]
    }
   ],
   "source": [
    "m, GMMradius, DMMradius, R0, P0, w0 = radiusPlot(m, s, kmax, NUM_EPOCHS)\n",
    "print(GMMradius)\n",
    "print(DMMradius)"
   ]
  }
 ],
 "metadata": {
  "kernelspec": {
   "display_name": "Python 3",
   "language": "python",
   "name": "python3"
  },
  "language_info": {
   "codemirror_mode": {
    "name": "ipython",
    "version": 3
   },
   "file_extension": ".py",
   "mimetype": "text/x-python",
   "name": "python",
   "nbconvert_exporter": "python",
   "pygments_lexer": "ipython3",
   "version": "3.5.4"
  }
 },
 "nbformat": 4,
 "nbformat_minor": 2
}

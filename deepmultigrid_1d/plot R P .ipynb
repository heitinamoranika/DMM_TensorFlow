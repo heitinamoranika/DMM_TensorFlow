{
 "cells": [
  {
   "cell_type": "code",
   "execution_count": 1,
   "metadata": {},
   "outputs": [],
   "source": [
    "import numpy as np\n",
    "import tensorflow as tf\n",
    "import matplotlib.pyplot as plt\n",
    "\n",
    "from basicpossion import *\n",
    "from spectralradius import *\n",
    "from norm import *\n",
    "from local_optimizer_Adam import *\n",
    "from homotopy_optimizer_Helmholtz import *\n",
    "from multigrid_two_level import *"
   ]
  },
  {
   "cell_type": "code",
   "execution_count": 2,
   "metadata": {},
   "outputs": [],
   "source": [
    "m = 8\n",
    "kmax = 100\n",
    "def f(x): return np.exp(np.pi*x)"
   ]
  },
  {
   "cell_type": "code",
   "execution_count": null,
   "metadata": {},
   "outputs": [
    {
     "name": "stdout",
     "output_type": "stream",
     "text": [
      "0.25074765958005774\n",
      "0.22306605021218898\n",
      "0.2\n",
      "0.2245345526199138\n",
      "0.30000000000000004\n"
     ]
    }
   ],
   "source": [
    "m, GMMradius, DMMradius, R0, P0, w0 = radiusPlot(m, 2, kmax, 20)"
   ]
  },
  {
   "cell_type": "code",
   "execution_count": null,
   "metadata": {},
   "outputs": [],
   "source": [
    "print(GMMradius)"
   ]
  },
  {
   "cell_type": "code",
   "execution_count": null,
   "metadata": {},
   "outputs": [],
   "source": [
    "print(DMMradius)"
   ]
  },
  {
   "cell_type": "code",
   "execution_count": null,
   "metadata": {},
   "outputs": [],
   "source": [
    "P0 = interpolate(m)"
   ]
  },
  {
   "cell_type": "code",
   "execution_count": null,
   "metadata": {},
   "outputs": [],
   "source": [
    "R0 = restriction(m)"
   ]
  },
  {
   "cell_type": "code",
   "execution_count": null,
   "metadata": {},
   "outputs": [],
   "source": [
    "[a,b] = P0.shape\n",
    "print(a)\n",
    "print(b)\n",
    "import xlwt\n",
    "workbook = xlwt.Workbook() \n",
    "sheet = workbook.add_sheet(\"P0\")\n",
    "for i in range(a):\n",
    "    for j in range(b):\n",
    "        sheet.write(i,j,P0[i][j]) \n",
    "workbook.save('T:\\Programming\\deepmultigrid_1d\\P0.xls')\n"
   ]
  },
  {
   "cell_type": "code",
   "execution_count": null,
   "metadata": {},
   "outputs": [],
   "source": [
    "[a,b] = R0.shape\n",
    "print(a)\n",
    "print(b)\n",
    "import xlwt\n",
    "workbook = xlwt.Workbook() \n",
    "sheet = workbook.add_sheet(\"R0\")\n",
    "for i in range(a):\n",
    "    for j in range(b):\n",
    "        sheet.write(j,i,R0[i][j]) \n",
    "workbook.save('T:\\Programming\\deepmultigrid_1d\\R0.xls')"
   ]
  },
  {
   "cell_type": "code",
   "execution_count": null,
   "metadata": {},
   "outputs": [],
   "source": []
  }
 ],
 "metadata": {
  "kernelspec": {
   "display_name": "Python 3",
   "language": "python",
   "name": "python3"
  },
  "language_info": {
   "codemirror_mode": {
    "name": "ipython",
    "version": 3
   },
   "file_extension": ".py",
   "mimetype": "text/x-python",
   "name": "python",
   "nbconvert_exporter": "python",
   "pygments_lexer": "ipython3",
   "version": "3.5.4"
  }
 },
 "nbformat": 4,
 "nbformat_minor": 2
}

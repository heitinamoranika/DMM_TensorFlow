{
 "cells": [
  {
   "cell_type": "code",
   "execution_count": null,
   "metadata": {},
   "outputs": [],
   "source": [
    "import numpy as np\n",
    "import tensorflow as tf\n",
    "import matplotlib.pyplot as plt\n",
    "\n",
    "from basicpossion import *\n",
    "from spectralradius import *\n",
    "from norm import *\n",
    "from local_optimizer_Adam import *\n",
    "from homotopy_optimizer_Helmholtz import *\n",
    "from multigrid_two_level import *\n",
    "\n",
    "m = 8\n",
    "s2 = 2\n",
    "kmax = 50\n",
    "\n",
    "\n",
    "def f(x): return np.exp(np.pi*x)\n",
    "\n",
    "NUM_EPOCH = 20\n",
    "#m, GMMradius, DMMradius, R0, P0, w0 = radiusPlot(m, s2, kmax, 20)\n",
    "GMM_OUTPUT = Multigrid_circle(m, Helmholtz(m, kmax), interpolate(m), restriction(m), s2, 2/3,  f, NUM_EPOCH)\n",
    "#DMM_OUTPUT = Multigrid_circle(m, Helmholtz(m, kmax), P0, R0, s2, w0,  f, NUM_EPOCH)\n",
    "\n",
    "X = np.linspace(0, 1, len(GMM_OUTPUT))\n",
    "plt.figure(1)\n",
    "plt.plot(X, GMM_OUTPUT, label='GMM_OUTPUT')\n",
    "#plt.plot(X, DMM_OUTPUT, label='DMM_OUTPUT')\n",
    "plt.legend(loc='upper left')\n",
    "plt.show()\n",
    "#print(GMMradius)\n",
    "#print(DMMradius)\n"
   ]
  }
 ],
 "metadata": {
  "kernelspec": {
   "display_name": "Python 3",
   "language": "python",
   "name": "python3"
  },
  "language_info": {
   "codemirror_mode": {
    "name": "ipython",
    "version": 3
   },
   "file_extension": ".py",
   "mimetype": "text/x-python",
   "name": "python",
   "nbconvert_exporter": "python",
   "pygments_lexer": "ipython3",
   "version": "3.5.4"
  }
 },
 "nbformat": 4,
 "nbformat_minor": 2
}
